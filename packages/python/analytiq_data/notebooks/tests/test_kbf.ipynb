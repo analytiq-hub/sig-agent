{
 "cells": [
  {
   "cell_type": "code",
   "execution_count": null,
   "id": "41a04e1a",
   "metadata": {},
   "outputs": [],
   "source": [
    "import os\n",
    "import sys\n",
    "import pathlib\n",
    "import base64\n",
    "import pandas as pd"
   ]
  },
  {
   "cell_type": "code",
   "execution_count": null,
   "id": "2b46d2ba",
   "metadata": {},
   "outputs": [],
   "source": [
    "# Add the packages directory to the Python path\n",
    "# In Jupyter notebooks, __file__ is not available, so we use os.getcwd() instead\n",
    "TOP_DIR = pathlib.Path(os.getcwd()).parent.parent.parent.parent\n",
    "PACKAGES_DIR = TOP_DIR / \"packages\"\n",
    "sys.path.append(str(PACKAGES_DIR))"
   ]
  },
  {
   "cell_type": "code",
   "execution_count": null,
   "id": "4f588ebd",
   "metadata": {},
   "outputs": [],
   "source": [
    "KBF_WORKSPACE_TOKEN = os.environ[\"KBF_WORKSPACE_TOKEN\"]\n",
    "if not KBF_WORKSPACE_TOKEN:\n",
    "    raise ValueError(\"KBF_WORKSPACE_TOKEN is not set\")"
   ]
  },
  {
   "cell_type": "code",
   "execution_count": null,
   "id": "f3de37d6",
   "metadata": {},
   "outputs": [],
   "source": [
    "from sigagent_sdk import SigAgentClient\n",
    "from sigagent_sdk.models.document import ListDocumentsResponse\n"
   ]
  },
  {
   "cell_type": "code",
   "execution_count": null,
   "id": "a9131f79",
   "metadata": {},
   "outputs": [],
   "source": [
    "client = SigAgentClient(\n",
    "        base_url=\"https://app.sigagent.ai/fastapi\",\n",
    "        api_token=KBF_WORKSPACE_TOKEN\n",
    "    )"
   ]
  },
  {
   "cell_type": "code",
   "execution_count": null,
   "id": "b740f114",
   "metadata": {},
   "outputs": [],
   "source": [
    "# Get organization ID from environment\n",
    "KBF_ORG_ID = os.environ.get(\"KBF_ORG_ID\")\n",
    "if not KBF_ORG_ID:\n",
    "    raise ValueError(\"KBF_ORG_ID is not set\")\n",
    "\n",
    "print(f\"Using organization ID: {KBF_ORG_ID}\")\n",
    "\n",
    "KBF_CONTRACT_WHOLE_HOUSE_TAG_ID = os.environ.get(\"KBF_CONTRACT_WHOLE_HOUSE_TAG_ID\")\n",
    "if not KBF_CONTRACT_WHOLE_HOUSE_TAG_ID:\n",
    "    raise ValueError(\"KBF_CONTRACT_WHOLE_HOUSE_TAG_ID is not set\")\n",
    "\n",
    "print(f\"Using tag ID: {KBF_CONTRACT_WHOLE_HOUSE_TAG_ID}\")\n"
   ]
  },
  {
   "cell_type": "code",
   "execution_count": null,
   "id": "60a8b7fc",
   "metadata": {},
   "outputs": [],
   "source": [
    "CONTRACT_XLSX=\"/home/andrei/Documents/Analytiq/Customers/KDF/data/contract_whole_house.xlsx\""
   ]
  },
  {
   "cell_type": "code",
   "execution_count": null,
   "id": "ffe2992f",
   "metadata": {},
   "outputs": [],
   "source": [
    "# Define output directory\n",
    "output_dir = pathlib.Path(\"/home/andrei/Documents/Analytiq/Customers/KDF/data/output\")\n",
    "output_dir.mkdir(parents=True, exist_ok=True)\n",
    "\n",
    "print(f\"Reading Excel file: {CONTRACT_XLSX}\")\n",
    "print(f\"Output directory: {output_dir}\")\n",
    "\n",
    "# Read all sheets from the Excel file\n",
    "excel_file = pd.ExcelFile(CONTRACT_XLSX)\n",
    "sheet_names = excel_file.sheet_names\n",
    "\n",
    "print(f\"Found {len(sheet_names)} sheets: {sheet_names}\")\n",
    "\n",
    "# List to store created CSV filenames\n",
    "created_csv_files = []\n",
    "\n",
    "# Process each sheet\n",
    "for sheet_name in sheet_names:\n",
    "    print(f\"\\nProcessing sheet: '{sheet_name}'\")\n",
    "    \n",
    "    # Read the sheet\n",
    "    df = pd.read_excel(CONTRACT_XLSX, sheet_name=sheet_name)\n",
    "    \n",
    "    # Create filename: replace spaces with underscores and convert to lowercase\n",
    "    filename = sheet_name.replace(\" \", \"_\").replace(\"_$\", \"\").lower() + \".csv\"\n",
    "    output_path = output_dir / filename\n",
    "    \n",
    "    # Save as CSV\n",
    "    df.to_csv(output_path, index=False)\n",
    "    \n",
    "    # Add to our list of created files\n",
    "    created_csv_files.append(filename)\n",
    "    \n",
    "    print(f\"  Saved {len(df)} rows to: {output_path}\")\n",
    "\n",
    "print(f\"\\nCompleted! Created {len(sheet_names)} CSV files in {output_dir}\")\n",
    "print(f\"Created CSV files: {created_csv_files}\")\n"
   ]
  },
  {
   "cell_type": "code",
   "execution_count": null,
   "id": "2f0d6081",
   "metadata": {},
   "outputs": [],
   "source": [
    "# Upload CSV files to workspace (only missing ones)\n",
    "\n",
    "print(\"Checking which CSV files are already in the workspace...\")\n",
    "\n",
    "# Get current documents in workspace\n",
    "existing_documents = client.documents.list(KBF_ORG_ID)\n",
    "existing_filenames = {doc.document_name for doc in existing_documents.documents}\n",
    "\n",
    "print(f\"Found {len(existing_filenames)} existing documents in workspace\")\n",
    "print(f\"Existing filenames: {sorted(existing_filenames)}\")\n",
    "\n",
    "# Find CSV files that need to be uploaded\n",
    "csv_files_to_upload = []\n",
    "for csv_filename in created_csv_files:\n",
    "    if csv_filename not in existing_filenames:\n",
    "        csv_files_to_upload.append(csv_filename)\n",
    "    else:\n",
    "        print(f\"  ✓ {csv_filename} already exists in workspace\")\n",
    "\n",
    "print(f\"\\nCSV files to upload: {csv_files_to_upload}\")\n",
    "\n",
    "# Upload missing CSV files\n",
    "if csv_files_to_upload:\n",
    "    print(f\"\\nUploading {len(csv_files_to_upload)} CSV files...\")\n",
    "    \n",
    "    documents_to_upload = []\n",
    "    for csv_filename in csv_files_to_upload:\n",
    "        csv_path = output_dir / csv_filename\n",
    "        \n",
    "        # Read the CSV file and encode as base64\n",
    "        with open(csv_path, 'rb') as f:\n",
    "            csv_content = f.read()\n",
    "            csv_base64 = base64.b64encode(csv_content).decode()\n",
    "        \n",
    "        # Create document data\n",
    "        document_data = {\n",
    "            \"name\": csv_filename,\n",
    "            \"content\": f\"data:text/csv;base64,{csv_base64}\",\n",
    "            \"tag_ids\": [KBF_CONTRACT_WHOLE_HOUSE_TAG_ID],\n",
    "            \"metadata\": {\n",
    "                \"source\": \"contract_excel_export\",\n",
    "                \"original_sheet\": csv_filename.replace('.csv', '').replace('_', ' ').title()\n",
    "            }\n",
    "        }\n",
    "        documents_to_upload.append(document_data)\n",
    "        print(f\"  Prepared {csv_filename} for upload with tag {KBF_CONTRACT_WHOLE_HOUSE_TAG_ID}\")\n",
    "    \n",
    "    # Upload all documents at once\n",
    "    upload_result = client.documents.upload(KBF_ORG_ID, documents_to_upload)\n",
    "    print(f\"\\nUpload completed!\")\n",
    "    print(f\"Uploaded {len(upload_result['documents'])} documents:\")\n",
    "    for doc in upload_result['documents']:\n",
    "        print(f\"  - {doc['document_name']} (ID: {doc['document_id']})\")\n",
    "else:\n",
    "    print(\"\\nAll CSV files are already in the workspace - no upload needed!\")\n"
   ]
  },
  {
   "cell_type": "code",
   "execution_count": null,
   "id": "746142e7",
   "metadata": {},
   "outputs": [],
   "source": [
    "# List documents in the KBF workspace\n",
    "print(\"Listing documents in KBF workspace...\")\n",
    "documents = client.documents.list(KBF_ORG_ID)\n",
    "\n",
    "print(f\"Found {documents.total_count} documents\")\n",
    "print(\"\\nDocument details:\")\n",
    "for i, doc in enumerate(documents.documents, 1):\n",
    "    print(f\"{i}. ID: {doc.id}\")\n",
    "    print(f\"   Name: {doc.document_name}\")\n",
    "    print(f\"   Created: {doc.created_at}\")\n",
    "    print(f\"   Size: {doc.size_bytes} bytes\")\n",
    "    if doc.metadata:\n",
    "        print(f\"   Metadata: {doc.metadata}\")\n",
    "    print()\n"
   ]
  },
  {
   "cell_type": "code",
   "execution_count": null,
   "id": "7df1223b",
   "metadata": {},
   "outputs": [],
   "source": [
    "\n"
   ]
  },
  {
   "cell_type": "code",
   "execution_count": null,
   "id": "feca9b90",
   "metadata": {},
   "outputs": [],
   "source": []
  },
  {
   "cell_type": "code",
   "execution_count": null,
   "id": "47b1624d",
   "metadata": {},
   "outputs": [],
   "source": [
    "\n"
   ]
  },
  {
   "cell_type": "code",
   "execution_count": null,
   "id": "3f4eafe8",
   "metadata": {},
   "outputs": [],
   "source": []
  }
 ],
 "metadata": {
  "kernelspec": {
   "display_name": ".venv",
   "language": "python",
   "name": "python3"
  },
  "language_info": {
   "codemirror_mode": {
    "name": "ipython",
    "version": 3
   },
   "file_extension": ".py",
   "mimetype": "text/x-python",
   "name": "python",
   "nbconvert_exporter": "python",
   "pygments_lexer": "ipython3",
   "version": "3.13.7"
  }
 },
 "nbformat": 4,
 "nbformat_minor": 5
}
