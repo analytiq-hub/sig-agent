{
 "cells": [
  {
   "cell_type": "code",
   "execution_count": null,
   "metadata": {},
   "outputs": [],
   "source": [
    "%load_ext autoreload\n",
    "%autoreload 2"
   ]
  },
  {
   "cell_type": "code",
   "execution_count": null,
   "metadata": {},
   "outputs": [],
   "source": [
    "import sys\n",
    "sys.path.append(\"../../..\")"
   ]
  },
  {
   "cell_type": "code",
   "execution_count": null,
   "metadata": {},
   "outputs": [],
   "source": [
    "import os\n",
    "from datetime import datetime, UTC\n",
    "import analytiq_data as ad\n",
    "import asyncio\n",
    "from bson import ObjectId\n",
    "from dotenv import load_dotenv\n",
    "import app.routes.payments"
   ]
  },
  {
   "cell_type": "code",
   "execution_count": null,
   "metadata": {},
   "outputs": [],
   "source": [
    "ad.common.setup()\n",
    "db = ad.common.get_async_db()\n",
    "await app.routes.payments.init_payments_env(db)\n"
   ]
  },
  {
   "cell_type": "code",
   "execution_count": null,
   "metadata": {},
   "outputs": [],
   "source": [
    "#await app.routes.payments.delete_all_payments_customers(dryrun=False)"
   ]
  },
  {
   "cell_type": "code",
   "execution_count": null,
   "metadata": {},
   "outputs": [],
   "source": [
    "org_id = \"6795345439604beca2b2808d\""
   ]
  },
  {
   "cell_type": "code",
   "execution_count": null,
   "metadata": {},
   "outputs": [],
   "source": [
    "await app.routes.payments.sync_payments_customer(db, org_id=org_id)"
   ]
  },
  {
   "cell_type": "code",
   "execution_count": null,
   "metadata": {},
   "outputs": [
    {
     "name": "stderr",
     "output_type": "stream",
     "text": [
      "2025-09-30 05:23:04,661 - stripe - INFO - message='Request to Stripe api' method=get url=https://api.stripe.com/v1/subscriptions?customer=cus_T59sPjA7gTtDYh\n",
      "2025-09-30 05:23:05,136 - stripe - INFO - message='Stripe API response' path=https://api.stripe.com/v1/subscriptions?customer=cus_T59sPjA7gTtDYh response_code=200\n"
     ]
    }
   ],
   "source": [
    "stripe_customer = await app.routes.payments.get_stripe_customer(db, org_id=org_id)\n",
    "stripe_customer"
   ]
  },
  {
   "cell_type": "code",
   "execution_count": null,
   "metadata": {},
   "outputs": [],
   "source": [
    "stripe_customer.id"
   ]
  },
  {
   "cell_type": "code",
   "execution_count": null,
   "metadata": {},
   "outputs": [],
   "source": [
    "subscription = await app.payments.get_stripe_subscription(db, stripe_customer.id)\n",
    "subscription"
   ]
  },
  {
   "cell_type": "code",
   "execution_count": null,
   "metadata": {},
   "outputs": [],
   "source": [
    "await app.payments.process_all_billing()"
   ]
  },
  {
   "cell_type": "code",
   "execution_count": null,
   "metadata": {},
   "outputs": [],
   "source": [
    "await app.payments.process_org_billing(org_id=org_id)"
   ]
  },
  {
   "cell_type": "code",
   "execution_count": null,
   "metadata": {},
   "outputs": [],
   "source": [
    "await app.payments.set_subscription_type(db, stripe_customer.id, \"individual\")"
   ]
  },
  {
   "cell_type": "code",
   "execution_count": null,
   "metadata": {},
   "outputs": [],
   "source": [
    "await app.payments.save_usage_record(db=db,org_id=org_id, spus=100, operation=\"test\")"
   ]
  },
  {
   "cell_type": "code",
   "execution_count": null,
   "metadata": {},
   "outputs": [],
   "source": [
    "await app.payments.set_subscription_type(db, stripe_customer.id, \"individual\")"
   ]
  },
  {
   "cell_type": "code",
   "execution_count": null,
   "metadata": {},
   "outputs": [],
   "source": [
    "org_id = \"6859696f6ebcee0b712b9ac6\""
   ]
  },
  {
   "cell_type": "code",
   "execution_count": null,
   "metadata": {},
   "outputs": [],
   "source": [
    "await app.payments.sync_payments_customer(org_id=org_id)"
   ]
  },
  {
   "cell_type": "code",
   "execution_count": null,
   "metadata": {},
   "outputs": [],
   "source": [
    "await app.payments.delete_payments_customer(org_id=org_id, force=False)"
   ]
  },
  {
   "cell_type": "code",
   "execution_count": null,
   "metadata": {},
   "outputs": [],
   "source": [
    "await app.payments.get_tier_config()"
   ]
  },
  {
   "cell_type": "code",
   "execution_count": null,
   "metadata": {},
   "outputs": [],
   "source": [
    "await app.payments.load_credit_config()"
   ]
  },
  {
   "cell_type": "code",
   "execution_count": null,
   "metadata": {},
   "outputs": [],
   "source": [
    "# Get the stripe price for price_1S3PdpQ21OOWmU21SHAQ9R5C\n",
    "price_id = \"price_1S3PdpQ21OOWmU21SHAQ9R5C\"\n",
    "price = stripe.Price.retrieve(price_id)\n",
    "print(price)"
   ]
  }
 ],
 "metadata": {
  "kernelspec": {
   "display_name": ".venv",
   "language": "python",
   "name": "python3"
  },
  "language_info": {
   "codemirror_mode": {
    "name": "ipython",
    "version": 3
   },
   "file_extension": ".py",
   "mimetype": "text/x-python",
   "name": "python",
   "nbconvert_exporter": "python",
   "pygments_lexer": "ipython3",
   "version": "3.13.7"
  }
 },
 "nbformat": 4,
 "nbformat_minor": 2
}
